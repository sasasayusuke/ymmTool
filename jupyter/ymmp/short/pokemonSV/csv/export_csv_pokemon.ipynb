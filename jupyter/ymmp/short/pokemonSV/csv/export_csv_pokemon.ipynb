{
 "cells": [
  {
   "cell_type": "code",
   "execution_count": 19,
   "metadata": {},
   "outputs": [],
   "source": [
    "import requests as rq\n",
    "import pandas as pd\n",
    "from bs4 import BeautifulSoup\n",
    "\n"
   ]
  },
  {
   "cell_type": "code",
   "execution_count": 75,
   "metadata": {},
   "outputs": [],
   "source": [
    "urls = [\n",
    "    # 'https://game9820.com/pokemonsv-11191854',\n",
    "    \"https://game9820.com/pokemonsv-12081924\", \n",
    "    \"https://game9820.com/pokemonsv-12042255\",\n",
    "    \"https://game9820.com/pokemonsv-1228753\" ,\n",
    "    \"https://game9820.com/pokemonsv-12061953\",\n",
    "    \"https://game9820.com/pokemonsv-1101744\",\n",
    "    \"https://game9820.com/pokmeonsv-11231650\",\n",
    "    \"https://game9820.com/pokemonsv-110745\",\n",
    "]\n",
    "characters = [\n",
    "    \"反応集男\",\n",
    "    \"反応集女\",\n",
    "    \"反応集男（渋め）\",\n",
    "    \"反応集男（高め）\",\n",
    "    \"反応集男（遅め）\",\n",
    "]\n",
    "\n",
    "for url in urls:\n",
    "    res = rq.get(url)\n",
    "    soup = BeautifulSoup(res.text, \"html.parser\")\n",
    "    elems = soup.select('.t_b')\n",
    "\n",
    "    result = list(map(lambda v: [characters[v[0] % len(characters)], v[1].get_text()], enumerate(elems)))\n",
    "\n",
    "    # DataFrameに変換\n",
    "    df = pd.DataFrame(result)\n",
    "\n",
    "    # CSVファイルに書き込む\n",
    "    df.to_csv(elems[0].get_text() + '.csv', index=False, header=False)\n"
   ]
  },
  {
   "cell_type": "code",
   "execution_count": 68,
   "metadata": {},
   "outputs": [
    {
     "ename": "NameError",
     "evalue": "name 'pirint' is not defined",
     "output_type": "error",
     "traceback": [
      "\u001b[1;31m---------------------------------------------------------------------------\u001b[0m",
      "\u001b[1;31mNameError\u001b[0m                                 Traceback (most recent call last)",
      "Cell \u001b[1;32mIn[68], line 10\u001b[0m\n\u001b[0;32m      1\u001b[0m characters \u001b[39m=\u001b[39m [\n\u001b[0;32m      2\u001b[0m     \u001b[39m\"\u001b[39m\u001b[39m反応集男\u001b[39m\u001b[39m\"\u001b[39m,\n\u001b[0;32m      3\u001b[0m     \u001b[39m\"\u001b[39m\u001b[39m反応集女\u001b[39m\u001b[39m\"\u001b[39m,\n\u001b[1;32m   (...)\u001b[0m\n\u001b[0;32m      6\u001b[0m     \u001b[39m\"\u001b[39m\u001b[39m反応集男（遅め）\u001b[39m\u001b[39m\"\u001b[39m,\n\u001b[0;32m      7\u001b[0m ]\n\u001b[0;32m      9\u001b[0m \u001b[39mfor\u001b[39;00m index, url \u001b[39min\u001b[39;00m \u001b[39menumerate\u001b[39m(urls):\n\u001b[1;32m---> 10\u001b[0m     pirint\n",
      "\u001b[1;31mNameError\u001b[0m: name 'pirint' is not defined"
     ]
    }
   ],
   "source": [
    "characters = [\n",
    "    \"反応集男\",\n",
    "    \"反応集女\",\n",
    "    \"反応集男（渋め）\",\n",
    "    \"反応集男（高め）\",\n",
    "    \"反応集男（遅め）\",\n",
    "]\n",
    "\n",
    "for index, url in enumerate(urls):\n",
    "    pirint"
   ]
  },
  {
   "cell_type": "code",
   "execution_count": 72,
   "metadata": {},
   "outputs": [
    {
     "name": "stdout",
     "output_type": "stream",
     "text": [
      "[0, 1, 2, 3, 4, 5]\n"
     ]
    }
   ],
   "source": [
    "test_list = [\"a\", \"b\", \"c\", \"d\", \"e\", \"f\"]\n",
    "output_list = list(map(lambda x: x[0], enumerate(test_list)))\n",
    "\n",
    "print(output_list)"
   ]
  }
 ],
 "metadata": {
  "kernelspec": {
   "display_name": "Python 3",
   "language": "python",
   "name": "python3"
  },
  "language_info": {
   "codemirror_mode": {
    "name": "ipython",
    "version": 3
   },
   "file_extension": ".py",
   "mimetype": "text/x-python",
   "name": "python",
   "nbconvert_exporter": "python",
   "pygments_lexer": "ipython3",
   "version": "3.10.7"
  },
  "orig_nbformat": 4,
  "vscode": {
   "interpreter": {
    "hash": "26de051ba29f2982a8de78e945f0abaf191376122a1563185a90213a26c5da77"
   }
  }
 },
 "nbformat": 4,
 "nbformat_minor": 2
}
